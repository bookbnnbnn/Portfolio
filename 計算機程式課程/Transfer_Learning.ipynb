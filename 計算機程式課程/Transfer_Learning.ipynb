{
 "cells": [
  {
   "cell_type": "markdown",
   "metadata": {},
   "source": [
    "## 1. 讀入套件"
   ]
  },
  {
   "cell_type": "code",
   "execution_count": 1,
   "metadata": {},
   "outputs": [],
   "source": [
    "from tensorflow.keras.datasets import mnist\n",
    "from tensorflow.keras.utils import to_categorical\n",
    "import tensorflow as tf\n",
    "import matplotlib.pyplot as plt"
   ]
  },
  {
   "cell_type": "markdown",
   "metadata": {},
   "source": [
    "## 2. 讀入手寫辨識圖片資料並做處理"
   ]
  },
  {
   "cell_type": "code",
   "execution_count": 2,
   "metadata": {},
   "outputs": [],
   "source": [
    "(x_train, y_train), (x_test, y_test) = mnist.load_data()\n",
    "x_train = x_train / x_train.max()\n",
    "x_test = x_test / x_test.max()"
   ]
  },
  {
   "cell_type": "code",
   "execution_count": 3,
   "metadata": {},
   "outputs": [
    {
     "data": {
      "text/plain": [
       "(28, 28)"
      ]
     },
     "execution_count": 3,
     "metadata": {},
     "output_type": "execute_result"
    }
   ],
   "source": [
    "x_train[0].shape"
   ]
  },
  {
   "cell_type": "code",
   "execution_count": 4,
   "metadata": {},
   "outputs": [],
   "source": [
    "x_train = x_train.reshape(-1, 28, 28, 1)\n",
    "x_test = x_test.reshape(-1, 28, 28, 1)"
   ]
  },
  {
   "cell_type": "code",
   "execution_count": 5,
   "metadata": {},
   "outputs": [],
   "source": [
    "y_train = to_categorical(y_train, 10)\n",
    "y_test = to_categorical(y_test, 10)"
   ]
  },
  {
   "cell_type": "markdown",
   "metadata": {},
   "source": [
    "## 3. 匯入之前fashion資料集所做的CNN模型"
   ]
  },
  {
   "cell_type": "code",
   "execution_count": 10,
   "metadata": {},
   "outputs": [],
   "source": [
    "fashion_model = tf.keras.models.load_model('fashion_model.h5')"
   ]
  },
  {
   "cell_type": "code",
   "execution_count": 11,
   "metadata": {},
   "outputs": [
    {
     "name": "stdout",
     "output_type": "stream",
     "text": [
      "Model: \"sequential\"\n",
      "_________________________________________________________________\n",
      "Layer (type)                 Output Shape              Param #   \n",
      "=================================================================\n",
      "conv2d (Conv2D)              (None, 28, 28, 16)        160       \n",
      "_________________________________________________________________\n",
      "batch_normalization (BatchNo (None, 28, 28, 16)        64        \n",
      "_________________________________________________________________\n",
      "max_pooling2d (MaxPooling2D) (None, 14, 14, 16)        0         \n",
      "_________________________________________________________________\n",
      "conv2d_1 (Conv2D)            (None, 14, 14, 32)        4640      \n",
      "_________________________________________________________________\n",
      "batch_normalization_1 (Batch (None, 14, 14, 32)        128       \n",
      "_________________________________________________________________\n",
      "max_pooling2d_1 (MaxPooling2 (None, 7, 7, 32)          0         \n",
      "_________________________________________________________________\n",
      "conv2d_2 (Conv2D)            (None, 7, 7, 64)          18496     \n",
      "_________________________________________________________________\n",
      "batch_normalization_2 (Batch (None, 7, 7, 64)          256       \n",
      "_________________________________________________________________\n",
      "max_pooling2d_2 (MaxPooling2 (None, 3, 3, 64)          0         \n",
      "_________________________________________________________________\n",
      "flatten (Flatten)            (None, 576)               0         \n",
      "_________________________________________________________________\n",
      "dense (Dense)                (None, 128)               73856     \n",
      "_________________________________________________________________\n",
      "dropout (Dropout)            (None, 128)               0         \n",
      "_________________________________________________________________\n",
      "dense_1 (Dense)              (None, 10)                1290      \n",
      "=================================================================\n",
      "Total params: 98,890\n",
      "Trainable params: 98,666\n",
      "Non-trainable params: 224\n",
      "_________________________________________________________________\n"
     ]
    }
   ],
   "source": [
    "fashion_model.summary()"
   ]
  },
  {
   "cell_type": "markdown",
   "metadata": {},
   "source": [
    "## 4. 進行Transfer Learning"
   ]
  },
  {
   "cell_type": "code",
   "execution_count": 12,
   "metadata": {},
   "outputs": [],
   "source": [
    "for layer in fashion_model.layers:\n",
    "    layer.trainible = False"
   ]
  },
  {
   "cell_type": "code",
   "execution_count": 13,
   "metadata": {},
   "outputs": [],
   "source": [
    "fashion_model.compile(optimizer='Adam', loss = 'categorical_crossentropy', metrics=['accuracy'])"
   ]
  },
  {
   "cell_type": "code",
   "execution_count": 14,
   "metadata": {
    "scrolled": true
   },
   "outputs": [
    {
     "name": "stdout",
     "output_type": "stream",
     "text": [
      "Epoch 1/50\n",
      "600/600 [==============================] - 10s 17ms/step - loss: 0.4364 - accuracy: 0.8828 - val_loss: 0.0844 - val_accuracy: 0.9735\n",
      "Epoch 2/50\n",
      "600/600 [==============================] - 10s 17ms/step - loss: 0.0893 - accuracy: 0.9727 - val_loss: 0.0566 - val_accuracy: 0.9814\n",
      "Epoch 3/50\n",
      "600/600 [==============================] - 10s 17ms/step - loss: 0.0555 - accuracy: 0.9827 - val_loss: 0.0578 - val_accuracy: 0.9827\n",
      "Epoch 4/50\n",
      "600/600 [==============================] - 10s 17ms/step - loss: 0.0410 - accuracy: 0.9870 - val_loss: 0.0404 - val_accuracy: 0.9871\n",
      "Epoch 5/50\n",
      "600/600 [==============================] - 10s 17ms/step - loss: 0.0327 - accuracy: 0.9891 - val_loss: 0.0372 - val_accuracy: 0.9887\n",
      "Epoch 6/50\n",
      "600/600 [==============================] - 10s 17ms/step - loss: 0.0248 - accuracy: 0.9924 - val_loss: 0.0424 - val_accuracy: 0.9874\n",
      "Epoch 7/50\n",
      "600/600 [==============================] - 10s 17ms/step - loss: 0.0234 - accuracy: 0.9923 - val_loss: 0.0335 - val_accuracy: 0.9894\n",
      "Epoch 8/50\n",
      "600/600 [==============================] - 10s 17ms/step - loss: 0.0204 - accuracy: 0.9933 - val_loss: 0.0436 - val_accuracy: 0.98810s - loss: 0.0204 - accuracy: 0.99\n",
      "Epoch 9/50\n",
      "600/600 [==============================] - 10s 17ms/step - loss: 0.0201 - accuracy: 0.9935 - val_loss: 0.0422 - val_accuracy: 0.9883\n",
      "Epoch 10/50\n",
      "600/600 [==============================] - 10s 17ms/step - loss: 0.0167 - accuracy: 0.9945 - val_loss: 0.0455 - val_accuracy: 0.9887\n",
      "Epoch 11/50\n",
      "600/600 [==============================] - 10s 17ms/step - loss: 0.0148 - accuracy: 0.9951 - val_loss: 0.0392 - val_accuracy: 0.9894\n",
      "Epoch 12/50\n",
      "600/600 [==============================] - 10s 17ms/step - loss: 0.0147 - accuracy: 0.9953 - val_loss: 0.0391 - val_accuracy: 0.9905\n",
      "Epoch 13/50\n",
      "600/600 [==============================] - 10s 17ms/step - loss: 0.0114 - accuracy: 0.9963 - val_loss: 0.0520 - val_accuracy: 0.9859\n",
      "Epoch 14/50\n",
      "600/600 [==============================] - 11s 18ms/step - loss: 0.0130 - accuracy: 0.9956 - val_loss: 0.0304 - val_accuracy: 0.9918\n",
      "Epoch 15/50\n",
      "600/600 [==============================] - 11s 18ms/step - loss: 0.0112 - accuracy: 0.9961 - val_loss: 0.0302 - val_accuracy: 0.9918\n",
      "Epoch 16/50\n",
      "600/600 [==============================] - 10s 17ms/step - loss: 0.0096 - accuracy: 0.9965 - val_loss: 0.0410 - val_accuracy: 0.9909\n",
      "Epoch 17/50\n",
      "600/600 [==============================] - 10s 17ms/step - loss: 0.0098 - accuracy: 0.9968 - val_loss: 0.0384 - val_accuracy: 0.9904\n",
      "Epoch 18/50\n",
      "600/600 [==============================] - 10s 17ms/step - loss: 0.0087 - accuracy: 0.9972 - val_loss: 0.0385 - val_accuracy: 0.9898\n",
      "Epoch 19/50\n",
      "600/600 [==============================] - 10s 17ms/step - loss: 0.0101 - accuracy: 0.9967 - val_loss: 0.0407 - val_accuracy: 0.9916\n",
      "Epoch 20/50\n",
      "600/600 [==============================] - 11s 18ms/step - loss: 0.0084 - accuracy: 0.9971 - val_loss: 0.0391 - val_accuracy: 0.9922\n",
      "Epoch 21/50\n",
      "600/600 [==============================] - 10s 17ms/step - loss: 0.0081 - accuracy: 0.9974 - val_loss: 0.0490 - val_accuracy: 0.9914\n",
      "Epoch 22/50\n",
      "600/600 [==============================] - 11s 18ms/step - loss: 0.0086 - accuracy: 0.9976 - val_loss: 0.0744 - val_accuracy: 0.9863\n",
      "Epoch 23/50\n",
      "600/600 [==============================] - 11s 18ms/step - loss: 0.0076 - accuracy: 0.9974 - val_loss: 0.0430 - val_accuracy: 0.9913\n",
      "Epoch 24/50\n",
      "600/600 [==============================] - 10s 17ms/step - loss: 0.0058 - accuracy: 0.9981 - val_loss: 0.0492 - val_accuracy: 0.9913\n",
      "Epoch 25/50\n",
      "600/600 [==============================] - 11s 18ms/step - loss: 0.0051 - accuracy: 0.9984 - val_loss: 0.0475 - val_accuracy: 0.9917\n",
      "Epoch 26/50\n",
      "600/600 [==============================] - 11s 18ms/step - loss: 0.0070 - accuracy: 0.9979 - val_loss: 0.0500 - val_accuracy: 0.9903\n",
      "Epoch 27/50\n",
      "600/600 [==============================] - 10s 17ms/step - loss: 0.0084 - accuracy: 0.9973 - val_loss: 0.0404 - val_accuracy: 0.9918\n",
      "Epoch 28/50\n",
      "600/600 [==============================] - 11s 18ms/step - loss: 0.0066 - accuracy: 0.9979 - val_loss: 0.0433 - val_accuracy: 0.9917\n",
      "Epoch 29/50\n",
      "600/600 [==============================] - 11s 18ms/step - loss: 0.0055 - accuracy: 0.9981 - val_loss: 0.0581 - val_accuracy: 0.9899\n",
      "Epoch 30/50\n",
      "600/600 [==============================] - 10s 17ms/step - loss: 0.0065 - accuracy: 0.9980 - val_loss: 0.0402 - val_accuracy: 0.9919oss: 0.0062 \n",
      "Epoch 31/50\n",
      "600/600 [==============================] - 11s 18ms/step - loss: 0.0063 - accuracy: 0.9980 - val_loss: 0.0449 - val_accuracy: 0.9917\n",
      "Epoch 32/50\n",
      "600/600 [==============================] - 11s 18ms/step - loss: 0.0072 - accuracy: 0.9979 - val_loss: 0.0432 - val_accuracy: 0.9923\n",
      "Epoch 33/50\n",
      "600/600 [==============================] - 10s 17ms/step - loss: 0.0045 - accuracy: 0.9986 - val_loss: 0.0410 - val_accuracy: 0.9927\n",
      "Epoch 34/50\n",
      "600/600 [==============================] - 10s 17ms/step - loss: 0.0048 - accuracy: 0.9984 - val_loss: 0.0421 - val_accuracy: 0.9916\n",
      "Epoch 35/50\n",
      "600/600 [==============================] - 10s 17ms/step - loss: 0.0058 - accuracy: 0.9982 - val_loss: 0.0502 - val_accuracy: 0.9917\n",
      "Epoch 36/50\n",
      "600/600 [==============================] - 10s 17ms/step - loss: 0.0064 - accuracy: 0.9982 - val_loss: 0.0468 - val_accuracy: 0.9917\n",
      "Epoch 37/50\n",
      "600/600 [==============================] - 11s 18ms/step - loss: 0.0042 - accuracy: 0.9986 - val_loss: 0.0503 - val_accuracy: 0.9905\n",
      "Epoch 38/50\n",
      "600/600 [==============================] - 10s 17ms/step - loss: 0.0069 - accuracy: 0.9979 - val_loss: 0.0505 - val_accuracy: 0.9913\n",
      "Epoch 39/50\n",
      "600/600 [==============================] - 10s 17ms/step - loss: 0.0055 - accuracy: 0.9984 - val_loss: 0.0659 - val_accuracy: 0.9902\n",
      "Epoch 40/50\n",
      "600/600 [==============================] - 11s 18ms/step - loss: 0.0034 - accuracy: 0.9987 - val_loss: 0.0690 - val_accuracy: 0.9898\n",
      "Epoch 41/50\n",
      "600/600 [==============================] - 11s 18ms/step - loss: 0.0042 - accuracy: 0.9986 - val_loss: 0.0452 - val_accuracy: 0.9916\n",
      "Epoch 42/50\n",
      "600/600 [==============================] - 11s 18ms/step - loss: 0.0048 - accuracy: 0.9984 - val_loss: 0.0460 - val_accuracy: 0.9913\n",
      "Epoch 43/50\n",
      "600/600 [==============================] - 10s 17ms/step - loss: 0.0044 - accuracy: 0.9986 - val_loss: 0.0540 - val_accuracy: 0.9903\n",
      "Epoch 44/50\n",
      "600/600 [==============================] - 10s 17ms/step - loss: 0.0037 - accuracy: 0.9990 - val_loss: 0.0492 - val_accuracy: 0.9916\n",
      "Epoch 45/50\n",
      "600/600 [==============================] - 10s 17ms/step - loss: 0.0046 - accuracy: 0.9987 - val_loss: 0.0546 - val_accuracy: 0.9911\n",
      "Epoch 46/50\n",
      "600/600 [==============================] - 11s 18ms/step - loss: 0.0038 - accuracy: 0.9986 - val_loss: 0.0723 - val_accuracy: 0.9899\n",
      "Epoch 47/50\n",
      "600/600 [==============================] - 10s 17ms/step - loss: 0.0050 - accuracy: 0.9987 - val_loss: 0.0604 - val_accuracy: 0.9907\n",
      "Epoch 48/50\n",
      "600/600 [==============================] - 11s 18ms/step - loss: 0.0050 - accuracy: 0.9986 - val_loss: 0.0542 - val_accuracy: 0.9914\n",
      "Epoch 49/50\n",
      "600/600 [==============================] - 11s 18ms/step - loss: 0.0049 - accuracy: 0.9985 - val_loss: 0.0651 - val_accuracy: 0.9908\n",
      "Epoch 50/50\n",
      "600/600 [==============================] - 11s 18ms/step - loss: 0.0025 - accuracy: 0.9990 - val_loss: 0.0602 - val_accuracy: 0.9911\n"
     ]
    }
   ],
   "source": [
    "history = fashion_model.fit(x_train, y_train, batch_size=100, epochs=50, validation_data=(x_test, y_test))"
   ]
  },
  {
   "cell_type": "markdown",
   "metadata": {},
   "source": [
    "## 5.結果"
   ]
  },
  {
   "cell_type": "code",
   "execution_count": 15,
   "metadata": {},
   "outputs": [
    {
     "data": {
      "text/plain": [
       "(0.9, 1.0)"
      ]
     },
     "execution_count": 15,
     "metadata": {},
     "output_type": "execute_result"
    },
    {
     "data": {
      "image/png": "[encoded data removed]",
      "text/plain": [
       "<Figure size 432x288 with 1 Axes>"
      ]
     },
     "metadata": {
      "needs_background": "light"
     },
     "output_type": "display_data"
    }
   ],
   "source": [
    "plt.plot(history.history['accuracy'], label = 'accuracy')\n",
    "plt.plot(history.history['val_accuracy'], label = 'val_accuracy')\n",
    "plt.xlabel('epochs')\n",
    "plt.ylabel('accuracy')\n",
    "plt.ylim(0.9, 1)"
   ]
  },
  {
   "cell_type": "code",
   "execution_count": 16,
   "metadata": {},
   "outputs": [
    {
     "data": {
      "text/plain": [
       "(0.0, 0.3)"
      ]
     },
     "execution_count": 16,
     "metadata": {},
     "output_type": "execute_result"
    },
    {
     "data": {
      "image/png": "[encoded data removed]",
      "text/plain": [
       "<Figure size 432x288 with 1 Axes>"
      ]
     },
     "metadata": {
      "needs_background": "light"
     },
     "output_type": "display_data"
    }
   ],
   "source": [
    "plt.plot(history.history['loss'], label='loss')\n",
    "plt.plot(history.history['val_loss'], label = 'val_loss')\n",
    "plt.xlabel('epochs')\n",
    "plt.ylabel('loss')\n",
    "plt.ylim(0, 0.3)"
   ]
  },
  {
   "cell_type": "code",
   "execution_count": null,
   "metadata": {},
   "outputs": [],
   "source": []
  }
 ],
 "metadata": {
  "kernelspec": {
   "display_name": "Python 3",
   "language": "python",
   "name": "python3"
  },
  "language_info": {
   "codemirror_mode": {
    "name": "ipython",
    "version": 3
   },
   "file_extension": ".py",
   "mimetype": "text/x-python",
   "name": "python",
   "nbconvert_exporter": "python",
   "pygments_lexer": "ipython3",
   "version": "3.7.4"
  }
 },
 "nbformat": 4,
 "nbformat_minor": 2
}
