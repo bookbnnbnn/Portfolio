{
 "cells": [
  {
   "cell_type": "code",
   "execution_count": 7,
   "metadata": {},
   "outputs": [],
   "source": [
    "from bs4 import BeautifulSoup\n",
    "from selenium import webdriver\n",
    "from selenium.webdriver.chrome.options import Options\n",
    "import requests"
   ]
  },
  {
   "cell_type": "code",
   "execution_count": 8,
   "metadata": {},
   "outputs": [],
   "source": [
    "def weather_forecast(city = '臺北市'):    \n",
    "    options = Options()\n",
    "    options.add_argument('--headless')\n",
    "    options.add_argument('--disable-gpu') # 允許在無GPU的環境下執行，可選\n",
    "    options.add_argument('--window-size=1920x1080') # 建議設定\n",
    "    browser = webdriver.Chrome(options=options)\n",
    "    browser.get('https://www.cwb.gov.tw/V8/C/W/County/index.html')\n",
    "    soup = BeautifulSoup(browser.page_source, 'html.parser')\n",
    "    i = 1\n",
    "    try:\n",
    "        while len(soup.select(f'#town > li:nth-child({i}) > a > span.city')) == 1:\n",
    "            if city == soup.select(f'#town > li:nth-child({i}) > a > span.city')[0].text:\n",
    "                data = soup.select('#town > li:nth-child(2) > a > span.city')[0].find_next_sibling('span')\n",
    "                weather = data.find('img')['alt']\n",
    "                tem = data.find('span', {'class':'tem-C is-active'}).text\n",
    "            i += 1\n",
    "        return city, weather, tem\n",
    "    except:\n",
    "        print('請輸入正確城市名稱')"
   ]
  },
  {
   "cell_type": "code",
   "execution_count": 13,
   "metadata": {},
   "outputs": [],
   "source": [
    "line_token = 'gWLnjEjUdfzB86audQSBc7pu9t00EFGeciT0EBuBRM8'\n",
    "def lineNotify(city, weather, tem, line_token):\n",
    "    msg = f\"{city}：{weather}，氣溫{tem}度\"\n",
    "    stickerPackageId = 2\n",
    "    stickerId = 34\n",
    "    url = \"https://notify-api.line.me/api/notify\"\n",
    "    headers = {\n",
    "        \"Authorization\": \"Bearer \" + line_token\n",
    "    }\n",
    "   \n",
    "    payload = {\"message\": msg, \"stickerPackageId\": stickerPackageId, 'stickerId': stickerId}\n",
    "    r = requests.post(url, headers = headers, params = payload)\n",
    "    return r.status_code"
   ]
  },
  {
   "cell_type": "code",
   "execution_count": 14,
   "metadata": {},
   "outputs": [
    {
     "data": {
      "text/plain": [
       "200"
      ]
     },
     "execution_count": 14,
     "metadata": {},
     "output_type": "execute_result"
    }
   ],
   "source": [
    "lineNotify(*weather_forecast('高雄市'), line_token=line_token)"
   ]
  },
  {
   "cell_type": "code",
   "execution_count": null,
   "metadata": {},
   "outputs": [],
   "source": []
  }
 ],
 "metadata": {
  "kernelspec": {
   "display_name": "Python 3",
   "language": "python",
   "name": "python3"
  },
  "language_info": {
   "codemirror_mode": {
    "name": "ipython",
    "version": 3
   },
   "file_extension": ".py",
   "mimetype": "text/x-python",
   "name": "python",
   "nbconvert_exporter": "python",
   "pygments_lexer": "ipython3",
   "version": "3.7.4"
  }
 },
 "nbformat": 4,
 "nbformat_minor": 2
}
